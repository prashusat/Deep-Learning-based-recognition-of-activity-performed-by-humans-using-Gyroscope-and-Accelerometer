{
 "cells": [
  {
   "cell_type": "markdown",
   "metadata": {},
   "source": [
    "## Importing the libraries that are necessary"
   ]
  },
  {
   "cell_type": "code",
   "execution_count": 9,
   "metadata": {},
   "outputs": [],
   "source": [
    "import pandas as pd\n",
    "import numpy as np\n",
    "import keras\n",
    "from keras.models import Sequential\n",
    "from keras.layers import LSTM,Dense,Dropout,Conv2D,MaxPooling2D,Flatten,BatchNormalization\n",
    "import talos"
   ]
  },
  {
   "cell_type": "code",
   "execution_count": 2,
   "metadata": {},
   "outputs": [
    {
     "data": {
      "text/plain": [
       "(7352, 128)"
      ]
     },
     "execution_count": 2,
     "metadata": {},
     "output_type": "execute_result"
    }
   ],
   "source": [
    "a=pd.read_csv(\"HAR/UCI_HAR_Dataset/train/Inertial Signals/body_acc_x_train.txt\", delim_whitespace=True, header=None)\n",
    "a.shape"
   ]
  },
  {
   "cell_type": "code",
   "execution_count": 3,
   "metadata": {},
   "outputs": [],
   "source": [
    "SIGNALS = [\n",
    "    \"body_acc_x\",\n",
    "    \"body_acc_y\",\n",
    "    \"body_acc_z\",\n",
    "    \"body_gyro_x\",\n",
    "    \"body_gyro_y\",\n",
    "    \"body_gyro_z\",\n",
    "    \"total_acc_x\",\n",
    "    \"total_acc_y\",\n",
    "    \"total_acc_z\"\n",
    "]\n"
   ]
  },
  {
   "cell_type": "markdown",
   "metadata": {},
   "source": [
    "## Some basic facts:"
   ]
  },
  {
   "cell_type": "markdown",
   "metadata": {},
   "source": [
    "<h3> We have 7352 training samples and each of them have 128 time step with 9 inputs at each time step. Hence we have to write a function to get our data into 7352 rows with each row having 128 vectors of size 9. Basically of shape (7352,128,9).</h3>"
   ]
  },
  {
   "cell_type": "code",
   "execution_count": 4,
   "metadata": {},
   "outputs": [],
   "source": [
    "def load_data(subset):\n",
    "    loaded_samples=[]\n",
    "    for i in SIGNALS:\n",
    "        \n",
    "        f=pd.read_csv(f'HAR/UCI_HAR_Dataset/{subset}/Inertial Signals/{i}_{subset}.txt', delim_whitespace=True, header=None)\n",
    "        loaded_samples.append(f.values)\n",
    "    return np.transpose(loaded_samples,(1,2,0))"
   ]
  },
  {
   "cell_type": "code",
   "execution_count": 5,
   "metadata": {},
   "outputs": [],
   "source": [
    "def load_labels(subset):\n",
    "    f=pd.read_csv(f'HAR/UCI_HAR_Dataset/{subset}/y_{subset}.txt', delim_whitespace=True, header=None)\n",
    "    return pd.get_dummies(f[0]).values\n",
    "    "
   ]
  },
  {
   "cell_type": "code",
   "execution_count": 6,
   "metadata": {},
   "outputs": [],
   "source": [
    "def load_datasets():\n",
    "    x_train,x_test,y_train,y_test=load_data('train'),load_data('test'),load_labels('train'),load_labels('test')\n",
    "    return x_train,x_test,y_train,y_test"
   ]
  },
  {
   "cell_type": "markdown",
   "metadata": {},
   "source": [
    "## Loading the datasets:"
   ]
  },
  {
   "cell_type": "code",
   "execution_count": 7,
   "metadata": {},
   "outputs": [],
   "source": [
    "x_train,x_test,y_train,y_test=load_datasets()"
   ]
  },
  {
   "cell_type": "markdown",
   "metadata": {},
   "source": [
    "## LSTM Model-1"
   ]
  },
  {
   "cell_type": "code",
   "execution_count": 7,
   "metadata": {},
   "outputs": [],
   "source": [
    "def recognize_human_activity(x_train, y_train, x_val, y_val, params):\n",
    "\n",
    "    model=Sequential()\n",
    "    model.add(LSTM(params['first_layer'],input_shape=(128,9),return_sequences=True))\n",
    "    model.add(Dropout(params['drop_out_1']))\n",
    "    model.add(LSTM(params['second_layer']))\n",
    "    model.add(Dropout(params['drop_out_2']))\n",
    "    model.add(Dense(params['dense'],activation=\"relu\"))\n",
    "    model.add(Dropout(params['drop_out_3']))\n",
    "    model.add(Dense(6,activation=\"softmax\"))\n",
    "    model.compile(metrics=[\"accuracy\"],optimizer=\"adam\",loss=\"categorical_crossentropy\")\n",
    "    history=model.fit(x_train, y_train,validation_data=[x_val, y_val],batch_size=params['batch_size'],epochs=params['epochs'],callbacks=[talos.utils.live()])\n",
    "    return history,model"
   ]
  },
  {
   "cell_type": "markdown",
   "metadata": {},
   "source": [
    "## Hyperparameter tuning using Talos library"
   ]
  },
  {
   "cell_type": "code",
   "execution_count": 8,
   "metadata": {},
   "outputs": [],
   "source": [
    "params={'first_layer':[8,16,32,64],\n",
    "        'second_layer':[8,16,32,64],\n",
    "       'drop_out_1':[0.3,0.5,0.7],\n",
    "       'drop_out_2':[0.3,0.5,0.7],\n",
    "       'drop_out_3':[0.3,0.5,0.7],\n",
    "       'dense':[16,32,64,100],\n",
    "       'optimizer':[\"adam\",\"adagrad\"],\n",
    "       'batch_size':[64,128,512,1024],\n",
    "       'epochs':[8,10,12,14]}\n"
   ]
  },
  {
   "cell_type": "code",
   "execution_count": 29,
   "metadata": {},
   "outputs": [
    {
     "data": {
      "image/png": "[encoded data removed]",
      "text/plain": [
       "<Figure size 864x576 with 2 Axes>"
      ]
     },
     "metadata": {
      "needs_background": "light"
     },
     "output_type": "display_data"
    },
    {
     "name": "stderr",
     "output_type": "stream",
     "text": [
      "\n",
      "\n",
      "\n",
      "\n",
      "100%|██████████| 10/10 [12:09<00:00, 72.95s/it]\u001b[A\u001b[A\u001b[A\u001b[A\n"
     ]
    }
   ],
   "source": [
    "scan_object = talos.Scan(x_train,\n",
    "                         y_train,\n",
    "                         x_val=x_test,\n",
    "                         y_val=y_test,\n",
    "                         val_split=0.15 ,\n",
    "                         params=params,\n",
    "                         model=recognize_human_activity,\n",
    "                         experiment_name='HAR',\n",
    "                         round_limit=10)"
   ]
  },
  {
   "cell_type": "code",
   "execution_count": 32,
   "metadata": {},
   "outputs": [
    {
     "data": {
      "text/plain": [
       "experiment_name                     HAR\n",
       "random_method          uniform_mersenne\n",
       "reduction_method                   None\n",
       "reduction_interval                   50\n",
       "reduction_window                     20\n",
       "reduction_threshold                 0.2\n",
       "reduction_metric                val_acc\n",
       "complete_time            05/01/20/07:47\n",
       "x_shape                  (7352, 128, 9)\n",
       "y_shape                       (7352, 6)\n",
       "dtype: object"
      ]
     },
     "execution_count": 32,
     "metadata": {},
     "output_type": "execute_result"
    }
   ],
   "source": [
    "scan_object.details\n"
   ]
  },
  {
   "cell_type": "code",
   "execution_count": 33,
   "metadata": {},
   "outputs": [
    {
     "data": {
      "text/html": [
       "<div>\n",
       "<style scoped>\n",
       "    .dataframe tbody tr th:only-of-type {\n",
       "        vertical-align: middle;\n",
       "    }\n",
       "\n",
       "    .dataframe tbody tr th {\n",
       "        vertical-align: top;\n",
       "    }\n",
       "\n",
       "    .dataframe thead th {\n",
       "        text-align: right;\n",
       "    }\n",
       "</style>\n",
       "<table border=\"1\" class=\"dataframe\">\n",
       "  <thead>\n",
       "    <tr style=\"text-align: right;\">\n",
       "      <th></th>\n",
       "      <th>round_epochs</th>\n",
       "      <th>val_loss</th>\n",
       "      <th>val_accuracy</th>\n",
       "      <th>loss</th>\n",
       "      <th>accuracy</th>\n",
       "      <th>batch_size</th>\n",
       "      <th>dense</th>\n",
       "      <th>drop_out_1</th>\n",
       "      <th>drop_out_2</th>\n",
       "      <th>drop_out_3</th>\n",
       "      <th>epochs</th>\n",
       "      <th>first_layer</th>\n",
       "      <th>optimizer</th>\n",
       "      <th>second_layer</th>\n",
       "    </tr>\n",
       "  </thead>\n",
       "  <tbody>\n",
       "    <tr>\n",
       "      <th>0</th>\n",
       "      <td>10</td>\n",
       "      <td>1.027707</td>\n",
       "      <td>0.556159</td>\n",
       "      <td>1.086811</td>\n",
       "      <td>0.528292</td>\n",
       "      <td>512</td>\n",
       "      <td>64</td>\n",
       "      <td>0.3</td>\n",
       "      <td>0.5</td>\n",
       "      <td>0.7</td>\n",
       "      <td>10</td>\n",
       "      <td>8</td>\n",
       "      <td>adam</td>\n",
       "      <td>32</td>\n",
       "    </tr>\n",
       "    <tr>\n",
       "      <th>1</th>\n",
       "      <td>14</td>\n",
       "      <td>0.784109</td>\n",
       "      <td>0.671530</td>\n",
       "      <td>0.653803</td>\n",
       "      <td>0.709467</td>\n",
       "      <td>512</td>\n",
       "      <td>100</td>\n",
       "      <td>0.3</td>\n",
       "      <td>0.5</td>\n",
       "      <td>0.7</td>\n",
       "      <td>14</td>\n",
       "      <td>8</td>\n",
       "      <td>adam</td>\n",
       "      <td>64</td>\n",
       "    </tr>\n",
       "    <tr>\n",
       "      <th>2</th>\n",
       "      <td>12</td>\n",
       "      <td>0.901588</td>\n",
       "      <td>0.621988</td>\n",
       "      <td>1.065312</td>\n",
       "      <td>0.561752</td>\n",
       "      <td>1024</td>\n",
       "      <td>32</td>\n",
       "      <td>0.5</td>\n",
       "      <td>0.7</td>\n",
       "      <td>0.5</td>\n",
       "      <td>12</td>\n",
       "      <td>64</td>\n",
       "      <td>adagrad</td>\n",
       "      <td>32</td>\n",
       "    </tr>\n",
       "    <tr>\n",
       "      <th>3</th>\n",
       "      <td>12</td>\n",
       "      <td>1.042917</td>\n",
       "      <td>0.635901</td>\n",
       "      <td>1.228112</td>\n",
       "      <td>0.462731</td>\n",
       "      <td>512</td>\n",
       "      <td>64</td>\n",
       "      <td>0.5</td>\n",
       "      <td>0.7</td>\n",
       "      <td>0.7</td>\n",
       "      <td>12</td>\n",
       "      <td>64</td>\n",
       "      <td>adam</td>\n",
       "      <td>8</td>\n",
       "    </tr>\n",
       "    <tr>\n",
       "      <th>4</th>\n",
       "      <td>8</td>\n",
       "      <td>0.843970</td>\n",
       "      <td>0.594503</td>\n",
       "      <td>0.917788</td>\n",
       "      <td>0.539309</td>\n",
       "      <td>128</td>\n",
       "      <td>32</td>\n",
       "      <td>0.5</td>\n",
       "      <td>0.3</td>\n",
       "      <td>0.3</td>\n",
       "      <td>8</td>\n",
       "      <td>16</td>\n",
       "      <td>adam</td>\n",
       "      <td>8</td>\n",
       "    </tr>\n",
       "    <tr>\n",
       "      <th>5</th>\n",
       "      <td>14</td>\n",
       "      <td>1.022163</td>\n",
       "      <td>0.554462</td>\n",
       "      <td>0.977557</td>\n",
       "      <td>0.586099</td>\n",
       "      <td>1024</td>\n",
       "      <td>100</td>\n",
       "      <td>0.5</td>\n",
       "      <td>0.5</td>\n",
       "      <td>0.7</td>\n",
       "      <td>14</td>\n",
       "      <td>8</td>\n",
       "      <td>adam</td>\n",
       "      <td>64</td>\n",
       "    </tr>\n",
       "    <tr>\n",
       "      <th>6</th>\n",
       "      <td>8</td>\n",
       "      <td>0.966695</td>\n",
       "      <td>0.582966</td>\n",
       "      <td>1.080585</td>\n",
       "      <td>0.539037</td>\n",
       "      <td>1024</td>\n",
       "      <td>64</td>\n",
       "      <td>0.5</td>\n",
       "      <td>0.7</td>\n",
       "      <td>0.5</td>\n",
       "      <td>8</td>\n",
       "      <td>64</td>\n",
       "      <td>adam</td>\n",
       "      <td>64</td>\n",
       "    </tr>\n",
       "    <tr>\n",
       "      <th>7</th>\n",
       "      <td>12</td>\n",
       "      <td>0.887921</td>\n",
       "      <td>0.643705</td>\n",
       "      <td>1.007619</td>\n",
       "      <td>0.584875</td>\n",
       "      <td>512</td>\n",
       "      <td>32</td>\n",
       "      <td>0.3</td>\n",
       "      <td>0.5</td>\n",
       "      <td>0.3</td>\n",
       "      <td>12</td>\n",
       "      <td>64</td>\n",
       "      <td>adagrad</td>\n",
       "      <td>8</td>\n",
       "    </tr>\n",
       "    <tr>\n",
       "      <th>8</th>\n",
       "      <td>8</td>\n",
       "      <td>1.060376</td>\n",
       "      <td>0.593485</td>\n",
       "      <td>1.129201</td>\n",
       "      <td>0.540125</td>\n",
       "      <td>1024</td>\n",
       "      <td>32</td>\n",
       "      <td>0.3</td>\n",
       "      <td>0.3</td>\n",
       "      <td>0.7</td>\n",
       "      <td>8</td>\n",
       "      <td>64</td>\n",
       "      <td>adagrad</td>\n",
       "      <td>64</td>\n",
       "    </tr>\n",
       "    <tr>\n",
       "      <th>9</th>\n",
       "      <td>14</td>\n",
       "      <td>1.230504</td>\n",
       "      <td>0.521208</td>\n",
       "      <td>1.286050</td>\n",
       "      <td>0.446137</td>\n",
       "      <td>1024</td>\n",
       "      <td>32</td>\n",
       "      <td>0.7</td>\n",
       "      <td>0.3</td>\n",
       "      <td>0.5</td>\n",
       "      <td>14</td>\n",
       "      <td>8</td>\n",
       "      <td>adam</td>\n",
       "      <td>16</td>\n",
       "    </tr>\n",
       "  </tbody>\n",
       "</table>\n",
       "</div>"
      ],
      "text/plain": [
       "   round_epochs  val_loss  val_accuracy      loss  accuracy  batch_size  \\\n",
       "0            10  1.027707      0.556159  1.086811  0.528292         512   \n",
       "1            14  0.784109      0.671530  0.653803  0.709467         512   \n",
       "2            12  0.901588      0.621988  1.065312  0.561752        1024   \n",
       "3            12  1.042917      0.635901  1.228112  0.462731         512   \n",
       "4             8  0.843970      0.594503  0.917788  0.539309         128   \n",
       "5            14  1.022163      0.554462  0.977557  0.586099        1024   \n",
       "6             8  0.966695      0.582966  1.080585  0.539037        1024   \n",
       "7            12  0.887921      0.643705  1.007619  0.584875         512   \n",
       "8             8  1.060376      0.593485  1.129201  0.540125        1024   \n",
       "9            14  1.230504      0.521208  1.286050  0.446137        1024   \n",
       "\n",
       "   dense  drop_out_1  drop_out_2  drop_out_3  epochs  first_layer optimizer  \\\n",
       "0     64         0.3         0.5         0.7      10            8      adam   \n",
       "1    100         0.3         0.5         0.7      14            8      adam   \n",
       "2     32         0.5         0.7         0.5      12           64   adagrad   \n",
       "3     64         0.5         0.7         0.7      12           64      adam   \n",
       "4     32         0.5         0.3         0.3       8           16      adam   \n",
       "5    100         0.5         0.5         0.7      14            8      adam   \n",
       "6     64         0.5         0.7         0.5       8           64      adam   \n",
       "7     32         0.3         0.5         0.3      12           64   adagrad   \n",
       "8     32         0.3         0.3         0.7       8           64   adagrad   \n",
       "9     32         0.7         0.3         0.5      14            8      adam   \n",
       "\n",
       "   second_layer  \n",
       "0            32  \n",
       "1            64  \n",
       "2            32  \n",
       "3             8  \n",
       "4             8  \n",
       "5            64  \n",
       "6            64  \n",
       "7             8  \n",
       "8            64  \n",
       "9            16  "
      ]
     },
     "execution_count": 33,
     "metadata": {},
     "output_type": "execute_result"
    }
   ],
   "source": [
    "analyze_object.data\n"
   ]
  },
  {
   "cell_type": "markdown",
   "metadata": {},
   "source": [
    "## From the above table we can see that none of the models perform upto the mark."
   ]
  },
  {
   "cell_type": "code",
   "execution_count": 44,
   "metadata": {},
   "outputs": [],
   "source": [
    "def recognize_human_activity_model_2(x_train, y_train, x_val, y_val, params):\n",
    "\n",
    "    model=Sequential()\n",
    "    model.add(LSTM(params['first_layer'],input_shape=(128,9)))\n",
    "    model.add(Dropout(params['drop_out_1']))\n",
    "    \n",
    "    model.add(Dense(6,activation=\"softmax\"))\n",
    "    model.compile(metrics=[\"accuracy\"],optimizer=\"adam\",loss=\"categorical_crossentropy\")\n",
    "    history=model.fit(x_train, y_train,validation_data=[x_val, y_val],batch_size=params['batch_size'],epochs=params['epochs'],callbacks=[talos.utils.live()])\n",
    "    return history,model"
   ]
  },
  {
   "cell_type": "code",
   "execution_count": 45,
   "metadata": {},
   "outputs": [],
   "source": [
    "params={'first_layer':[8,16,32,64],\n",
    "        'second_layer':[8,16,32,64],\n",
    "       'drop_out_1':[0.3,0.5,0.7],\n",
    "       'drop_out_2':[0.3,0.5,0.7],\n",
    "       'drop_out_3':[0.3,0.5,0.7],\n",
    "       'dense':[16,32,64,100],\n",
    "       'optimizer':[\"adam\",\"adagrad\"],\n",
    "       'batch_size':[64,128,512,1024],\n",
    "       'epochs':[15,20,30,40]}\n"
   ]
  },
  {
   "cell_type": "code",
   "execution_count": 46,
   "metadata": {},
   "outputs": [
    {
     "data": {
      "image/png": "[encoded data removed]",
      "text/plain": [
       "<Figure size 864x576 with 2 Axes>"
      ]
     },
     "metadata": {
      "needs_background": "light"
     },
     "output_type": "display_data"
    },
    {
     "name": "stderr",
     "output_type": "stream",
     "text": [
      "\n",
      "\n",
      "\n",
      "\n",
      "\n",
      "\n",
      "\n",
      "\n",
      "100%|██████████| 10/10 [20:21<00:00, 122.16s/it]\u001b[A\u001b[A\u001b[A\u001b[A\u001b[A\u001b[A\u001b[A\u001b[A\n"
     ]
    }
   ],
   "source": [
    "x_train,x_test,y_train,y_test=load_datasets()\n",
    "scan_object = talos.Scan(x_train,\n",
    "                         y_train,\n",
    "                         x_val=x_test,\n",
    "                         y_val=y_test,\n",
    "                         params=params,\n",
    "                         model=recognize_human_activity_model_2,\n",
    "                         experiment_name='HAR',\n",
    "                         round_limit=10)"
   ]
  },
  {
   "cell_type": "code",
   "execution_count": null,
   "metadata": {},
   "outputs": [],
   "source": []
  },
  {
   "cell_type": "code",
   "execution_count": 47,
   "metadata": {},
   "outputs": [
    {
     "data": {
      "text/html": [
       "<div>\n",
       "<style scoped>\n",
       "    .dataframe tbody tr th:only-of-type {\n",
       "        vertical-align: middle;\n",
       "    }\n",
       "\n",
       "    .dataframe tbody tr th {\n",
       "        vertical-align: top;\n",
       "    }\n",
       "\n",
       "    .dataframe thead th {\n",
       "        text-align: right;\n",
       "    }\n",
       "</style>\n",
       "<table border=\"1\" class=\"dataframe\">\n",
       "  <thead>\n",
       "    <tr style=\"text-align: right;\">\n",
       "      <th></th>\n",
       "      <th>round_epochs</th>\n",
       "      <th>val_loss</th>\n",
       "      <th>val_accuracy</th>\n",
       "      <th>loss</th>\n",
       "      <th>accuracy</th>\n",
       "      <th>batch_size</th>\n",
       "      <th>dense</th>\n",
       "      <th>drop_out_1</th>\n",
       "      <th>drop_out_2</th>\n",
       "      <th>drop_out_3</th>\n",
       "      <th>epochs</th>\n",
       "      <th>first_layer</th>\n",
       "      <th>optimizer</th>\n",
       "      <th>second_layer</th>\n",
       "    </tr>\n",
       "  </thead>\n",
       "  <tbody>\n",
       "    <tr>\n",
       "      <th>0</th>\n",
       "      <td>15</td>\n",
       "      <td>0.411475</td>\n",
       "      <td>0.860875</td>\n",
       "      <td>0.313300</td>\n",
       "      <td>0.913357</td>\n",
       "      <td>128</td>\n",
       "      <td>64</td>\n",
       "      <td>0.7</td>\n",
       "      <td>0.5</td>\n",
       "      <td>0.3</td>\n",
       "      <td>15</td>\n",
       "      <td>64</td>\n",
       "      <td>adagrad</td>\n",
       "      <td>16</td>\n",
       "    </tr>\n",
       "    <tr>\n",
       "      <th>1</th>\n",
       "      <td>15</td>\n",
       "      <td>1.408659</td>\n",
       "      <td>0.653546</td>\n",
       "      <td>0.580935</td>\n",
       "      <td>0.784684</td>\n",
       "      <td>128</td>\n",
       "      <td>16</td>\n",
       "      <td>0.7</td>\n",
       "      <td>0.5</td>\n",
       "      <td>0.5</td>\n",
       "      <td>15</td>\n",
       "      <td>32</td>\n",
       "      <td>adam</td>\n",
       "      <td>32</td>\n",
       "    </tr>\n",
       "    <tr>\n",
       "      <th>2</th>\n",
       "      <td>20</td>\n",
       "      <td>0.352916</td>\n",
       "      <td>0.882932</td>\n",
       "      <td>0.145438</td>\n",
       "      <td>0.943145</td>\n",
       "      <td>128</td>\n",
       "      <td>64</td>\n",
       "      <td>0.3</td>\n",
       "      <td>0.3</td>\n",
       "      <td>0.5</td>\n",
       "      <td>20</td>\n",
       "      <td>64</td>\n",
       "      <td>adam</td>\n",
       "      <td>16</td>\n",
       "    </tr>\n",
       "    <tr>\n",
       "      <th>3</th>\n",
       "      <td>40</td>\n",
       "      <td>0.435675</td>\n",
       "      <td>0.865287</td>\n",
       "      <td>0.243220</td>\n",
       "      <td>0.926959</td>\n",
       "      <td>1024</td>\n",
       "      <td>32</td>\n",
       "      <td>0.5</td>\n",
       "      <td>0.5</td>\n",
       "      <td>0.7</td>\n",
       "      <td>40</td>\n",
       "      <td>64</td>\n",
       "      <td>adam</td>\n",
       "      <td>16</td>\n",
       "    </tr>\n",
       "    <tr>\n",
       "      <th>4</th>\n",
       "      <td>30</td>\n",
       "      <td>0.784642</td>\n",
       "      <td>0.632508</td>\n",
       "      <td>0.760306</td>\n",
       "      <td>0.649075</td>\n",
       "      <td>1024</td>\n",
       "      <td>100</td>\n",
       "      <td>0.3</td>\n",
       "      <td>0.5</td>\n",
       "      <td>0.7</td>\n",
       "      <td>30</td>\n",
       "      <td>16</td>\n",
       "      <td>adam</td>\n",
       "      <td>64</td>\n",
       "    </tr>\n",
       "    <tr>\n",
       "      <th>5</th>\n",
       "      <td>15</td>\n",
       "      <td>0.957987</td>\n",
       "      <td>0.599932</td>\n",
       "      <td>0.583941</td>\n",
       "      <td>0.769995</td>\n",
       "      <td>512</td>\n",
       "      <td>100</td>\n",
       "      <td>0.7</td>\n",
       "      <td>0.7</td>\n",
       "      <td>0.5</td>\n",
       "      <td>15</td>\n",
       "      <td>64</td>\n",
       "      <td>adam</td>\n",
       "      <td>32</td>\n",
       "    </tr>\n",
       "    <tr>\n",
       "      <th>6</th>\n",
       "      <td>30</td>\n",
       "      <td>0.358834</td>\n",
       "      <td>0.888700</td>\n",
       "      <td>0.215881</td>\n",
       "      <td>0.930631</td>\n",
       "      <td>128</td>\n",
       "      <td>16</td>\n",
       "      <td>0.3</td>\n",
       "      <td>0.3</td>\n",
       "      <td>0.7</td>\n",
       "      <td>30</td>\n",
       "      <td>32</td>\n",
       "      <td>adam</td>\n",
       "      <td>16</td>\n",
       "    </tr>\n",
       "    <tr>\n",
       "      <th>7</th>\n",
       "      <td>15</td>\n",
       "      <td>0.656953</td>\n",
       "      <td>0.759077</td>\n",
       "      <td>0.449310</td>\n",
       "      <td>0.840860</td>\n",
       "      <td>128</td>\n",
       "      <td>32</td>\n",
       "      <td>0.3</td>\n",
       "      <td>0.3</td>\n",
       "      <td>0.5</td>\n",
       "      <td>15</td>\n",
       "      <td>64</td>\n",
       "      <td>adam</td>\n",
       "      <td>64</td>\n",
       "    </tr>\n",
       "    <tr>\n",
       "      <th>8</th>\n",
       "      <td>20</td>\n",
       "      <td>0.533722</td>\n",
       "      <td>0.821853</td>\n",
       "      <td>0.487310</td>\n",
       "      <td>0.830250</td>\n",
       "      <td>128</td>\n",
       "      <td>100</td>\n",
       "      <td>0.7</td>\n",
       "      <td>0.5</td>\n",
       "      <td>0.5</td>\n",
       "      <td>20</td>\n",
       "      <td>64</td>\n",
       "      <td>adam</td>\n",
       "      <td>16</td>\n",
       "    </tr>\n",
       "    <tr>\n",
       "      <th>9</th>\n",
       "      <td>30</td>\n",
       "      <td>0.808433</td>\n",
       "      <td>0.648795</td>\n",
       "      <td>0.820271</td>\n",
       "      <td>0.630305</td>\n",
       "      <td>1024</td>\n",
       "      <td>100</td>\n",
       "      <td>0.7</td>\n",
       "      <td>0.7</td>\n",
       "      <td>0.5</td>\n",
       "      <td>30</td>\n",
       "      <td>32</td>\n",
       "      <td>adagrad</td>\n",
       "      <td>32</td>\n",
       "    </tr>\n",
       "  </tbody>\n",
       "</table>\n",
       "</div>"
      ],
      "text/plain": [
       "   round_epochs  val_loss  val_accuracy      loss  accuracy  batch_size  \\\n",
       "0            15  0.411475      0.860875  0.313300  0.913357         128   \n",
       "1            15  1.408659      0.653546  0.580935  0.784684         128   \n",
       "2            20  0.352916      0.882932  0.145438  0.943145         128   \n",
       "3            40  0.435675      0.865287  0.243220  0.926959        1024   \n",
       "4            30  0.784642      0.632508  0.760306  0.649075        1024   \n",
       "5            15  0.957987      0.599932  0.583941  0.769995         512   \n",
       "6            30  0.358834      0.888700  0.215881  0.930631         128   \n",
       "7            15  0.656953      0.759077  0.449310  0.840860         128   \n",
       "8            20  0.533722      0.821853  0.487310  0.830250         128   \n",
       "9            30  0.808433      0.648795  0.820271  0.630305        1024   \n",
       "\n",
       "   dense  drop_out_1  drop_out_2  drop_out_3  epochs  first_layer optimizer  \\\n",
       "0     64         0.7         0.5         0.3      15           64   adagrad   \n",
       "1     16         0.7         0.5         0.5      15           32      adam   \n",
       "2     64         0.3         0.3         0.5      20           64      adam   \n",
       "3     32         0.5         0.5         0.7      40           64      adam   \n",
       "4    100         0.3         0.5         0.7      30           16      adam   \n",
       "5    100         0.7         0.7         0.5      15           64      adam   \n",
       "6     16         0.3         0.3         0.7      30           32      adam   \n",
       "7     32         0.3         0.3         0.5      15           64      adam   \n",
       "8    100         0.7         0.5         0.5      20           64      adam   \n",
       "9    100         0.7         0.7         0.5      30           32   adagrad   \n",
       "\n",
       "   second_layer  \n",
       "0            16  \n",
       "1            32  \n",
       "2            16  \n",
       "3            16  \n",
       "4            64  \n",
       "5            32  \n",
       "6            16  \n",
       "7            64  \n",
       "8            16  \n",
       "9            32  "
      ]
     },
     "execution_count": 47,
     "metadata": {},
     "output_type": "execute_result"
    }
   ],
   "source": [
    "analyze_object = talos.Analyze(scan_object)\n",
    "analyze_object.data"
   ]
  },
  {
   "cell_type": "markdown",
   "metadata": {},
   "source": [
    "## Even in the above we can see that none of the models give the desired accuracy."
   ]
  },
  {
   "cell_type": "markdown",
   "metadata": {},
   "source": [
    "## Hence we are going to try CNN based models"
   ]
  },
  {
   "cell_type": "markdown",
   "metadata": {},
   "source": [
    "## Reshaping the data so that it can be fed as input to CNN:"
   ]
  },
  {
   "cell_type": "code",
   "execution_count": 8,
   "metadata": {},
   "outputs": [],
   "source": [
    "x_train,x_test,y_train,y_test=load_datasets()\n",
    "x_train=x_train.reshape(x_train.shape[0],x_train.shape[1],x_train.shape[2],1)\n",
    "x_test=x_test.reshape(x_test.shape[0],x_test.shape[1],x_test.shape[2],1)"
   ]
  },
  {
   "cell_type": "markdown",
   "metadata": {},
   "source": [
    "## CNN MODEL-1"
   ]
  },
  {
   "cell_type": "code",
   "execution_count": 45,
   "metadata": {},
   "outputs": [],
   "source": [
    "def model_cnn(x_train,y_train,x_val,y_val,params):\n",
    "    model=Sequential()\n",
    "    model.add(Conv2D(filters=params['filters'],kernel_size=params['kernel_size'],kernel_regularizer=\"l2\",activation=\"relu\",kernel_initializer=params['initializer']))\n",
    "    model.add(Conv2D(filters=params['filters'],kernel_size=params['kernel_size'],kernel_regularizer=\"l2\",activation=\"relu\",kernel_initializer=params['initializer']))\n",
    "    model.add(MaxPooling2D(pool_size=params[\"max_pool\"], strides=None, padding='same', data_format='channels_last'))\n",
    "    model.add(Flatten())\n",
    "    model.add(Dense(6,activation=\"softmax\"))\n",
    "    model.compile(metrics=[\"accuracy\"],optimizer=\"adam\",loss=\"categorical_crossentropy\")\n",
    "    history=model.fit(x_train, y_train,validation_data=[x_val, y_val],batch_size=params['batch_size'],epochs=params['epochs'],callbacks=[talos.utils.live()])\n",
    "    return history,model"
   ]
  },
  {
   "cell_type": "code",
   "execution_count": 46,
   "metadata": {},
   "outputs": [],
   "source": [
    "params={'filters':[16,32,64,96],\n",
    "       'kernel_size':[(2,2),(3,3),(5,5)],\n",
    "       'initializer':['he_normal','glorot_normal'],\n",
    "       'max_pool':[(2,2),(3,3),(5,5)],\n",
    "       'batch_size':[64,128,512,1024],\n",
    "       'epochs':[15,20,30,40,50,60]\n",
    "       }"
   ]
  },
  {
   "cell_type": "code",
   "execution_count": 47,
   "metadata": {},
   "outputs": [
    {
     "data": {
      "image/png": "[encoded data removed]",
      "text/plain": [
       "<Figure size 864x576 with 2 Axes>"
      ]
     },
     "metadata": {
      "needs_background": "light"
     },
     "output_type": "display_data"
    },
    {
     "name": "stderr",
     "output_type": "stream",
     "text": [
      "\n",
      "\n",
      "\n",
      "\n",
      "\n",
      "100%|██████████| 10/10 [30:00<00:00, 180.09s/it]\u001b[A\u001b[A\u001b[A\u001b[A\u001b[A\n"
     ]
    }
   ],
   "source": [
    "scan_object_cnn = talos.Scan(x_train,\n",
    "                         y_train,\n",
    "                         x_val=x_test,\n",
    "                         y_val=y_test,\n",
    "                         params=params,\n",
    "                         model=model_cnn,\n",
    "                         experiment_name='HAR',\n",
    "                         round_limit=10)"
   ]
  },
  {
   "cell_type": "code",
   "execution_count": 34,
   "metadata": {},
   "outputs": [],
   "source": [
    "## Above we see the accuracy going up with epochs in the learning curve for the choosen model"
   ]
  },
  {
   "cell_type": "code",
   "execution_count": 48,
   "metadata": {},
   "outputs": [
    {
     "data": {
      "text/html": [
       "<div>\n",
       "<style scoped>\n",
       "    .dataframe tbody tr th:only-of-type {\n",
       "        vertical-align: middle;\n",
       "    }\n",
       "\n",
       "    .dataframe tbody tr th {\n",
       "        vertical-align: top;\n",
       "    }\n",
       "\n",
       "    .dataframe thead th {\n",
       "        text-align: right;\n",
       "    }\n",
       "</style>\n",
       "<table border=\"1\" class=\"dataframe\">\n",
       "  <thead>\n",
       "    <tr style=\"text-align: right;\">\n",
       "      <th></th>\n",
       "      <th>round_epochs</th>\n",
       "      <th>val_loss</th>\n",
       "      <th>val_accuracy</th>\n",
       "      <th>loss</th>\n",
       "      <th>accuracy</th>\n",
       "      <th>batch_size</th>\n",
       "      <th>epochs</th>\n",
       "      <th>filters</th>\n",
       "      <th>initializer</th>\n",
       "      <th>kernel_size</th>\n",
       "      <th>max_pool</th>\n",
       "    </tr>\n",
       "  </thead>\n",
       "  <tbody>\n",
       "    <tr>\n",
       "      <th>0</th>\n",
       "      <td>30</td>\n",
       "      <td>0.490238</td>\n",
       "      <td>0.890058</td>\n",
       "      <td>0.291800</td>\n",
       "      <td>0.958107</td>\n",
       "      <td>128</td>\n",
       "      <td>30</td>\n",
       "      <td>32</td>\n",
       "      <td>he_normal</td>\n",
       "      <td>(2, 2)</td>\n",
       "      <td>(3, 3)</td>\n",
       "    </tr>\n",
       "    <tr>\n",
       "      <th>1</th>\n",
       "      <td>40</td>\n",
       "      <td>0.453825</td>\n",
       "      <td>0.861893</td>\n",
       "      <td>0.196400</td>\n",
       "      <td>0.961099</td>\n",
       "      <td>128</td>\n",
       "      <td>40</td>\n",
       "      <td>16</td>\n",
       "      <td>glorot_normal</td>\n",
       "      <td>(2, 2)</td>\n",
       "      <td>(2, 2)</td>\n",
       "    </tr>\n",
       "    <tr>\n",
       "      <th>2</th>\n",
       "      <td>30</td>\n",
       "      <td>0.410041</td>\n",
       "      <td>0.896166</td>\n",
       "      <td>0.229350</td>\n",
       "      <td>0.952258</td>\n",
       "      <td>512</td>\n",
       "      <td>30</td>\n",
       "      <td>64</td>\n",
       "      <td>glorot_normal</td>\n",
       "      <td>(3, 3)</td>\n",
       "      <td>(3, 3)</td>\n",
       "    </tr>\n",
       "    <tr>\n",
       "      <th>3</th>\n",
       "      <td>60</td>\n",
       "      <td>0.491944</td>\n",
       "      <td>0.898202</td>\n",
       "      <td>0.364003</td>\n",
       "      <td>0.953482</td>\n",
       "      <td>1024</td>\n",
       "      <td>60</td>\n",
       "      <td>64</td>\n",
       "      <td>he_normal</td>\n",
       "      <td>(5, 5)</td>\n",
       "      <td>(5, 5)</td>\n",
       "    </tr>\n",
       "    <tr>\n",
       "      <th>4</th>\n",
       "      <td>15</td>\n",
       "      <td>0.718064</td>\n",
       "      <td>0.785545</td>\n",
       "      <td>0.476414</td>\n",
       "      <td>0.886289</td>\n",
       "      <td>1024</td>\n",
       "      <td>15</td>\n",
       "      <td>32</td>\n",
       "      <td>glorot_normal</td>\n",
       "      <td>(2, 2)</td>\n",
       "      <td>(2, 2)</td>\n",
       "    </tr>\n",
       "    <tr>\n",
       "      <th>5</th>\n",
       "      <td>30</td>\n",
       "      <td>0.621700</td>\n",
       "      <td>0.874109</td>\n",
       "      <td>0.440351</td>\n",
       "      <td>0.948857</td>\n",
       "      <td>512</td>\n",
       "      <td>30</td>\n",
       "      <td>96</td>\n",
       "      <td>he_normal</td>\n",
       "      <td>(5, 5)</td>\n",
       "      <td>(3, 3)</td>\n",
       "    </tr>\n",
       "    <tr>\n",
       "      <th>6</th>\n",
       "      <td>60</td>\n",
       "      <td>0.351684</td>\n",
       "      <td>0.910078</td>\n",
       "      <td>0.125883</td>\n",
       "      <td>0.961779</td>\n",
       "      <td>64</td>\n",
       "      <td>60</td>\n",
       "      <td>32</td>\n",
       "      <td>he_normal</td>\n",
       "      <td>(5, 5)</td>\n",
       "      <td>(2, 2)</td>\n",
       "    </tr>\n",
       "    <tr>\n",
       "      <th>7</th>\n",
       "      <td>15</td>\n",
       "      <td>0.903348</td>\n",
       "      <td>0.890058</td>\n",
       "      <td>0.776603</td>\n",
       "      <td>0.952122</td>\n",
       "      <td>512</td>\n",
       "      <td>15</td>\n",
       "      <td>64</td>\n",
       "      <td>he_normal</td>\n",
       "      <td>(5, 5)</td>\n",
       "      <td>(3, 3)</td>\n",
       "    </tr>\n",
       "    <tr>\n",
       "      <th>8</th>\n",
       "      <td>20</td>\n",
       "      <td>0.384136</td>\n",
       "      <td>0.894808</td>\n",
       "      <td>0.232845</td>\n",
       "      <td>0.951442</td>\n",
       "      <td>128</td>\n",
       "      <td>20</td>\n",
       "      <td>96</td>\n",
       "      <td>he_normal</td>\n",
       "      <td>(5, 5)</td>\n",
       "      <td>(2, 2)</td>\n",
       "    </tr>\n",
       "    <tr>\n",
       "      <th>9</th>\n",
       "      <td>20</td>\n",
       "      <td>0.342566</td>\n",
       "      <td>0.925687</td>\n",
       "      <td>0.199633</td>\n",
       "      <td>0.952802</td>\n",
       "      <td>64</td>\n",
       "      <td>20</td>\n",
       "      <td>32</td>\n",
       "      <td>he_normal</td>\n",
       "      <td>(5, 5)</td>\n",
       "      <td>(5, 5)</td>\n",
       "    </tr>\n",
       "  </tbody>\n",
       "</table>\n",
       "</div>"
      ],
      "text/plain": [
       "   round_epochs  val_loss  val_accuracy      loss  accuracy  batch_size  \\\n",
       "0            30  0.490238      0.890058  0.291800  0.958107         128   \n",
       "1            40  0.453825      0.861893  0.196400  0.961099         128   \n",
       "2            30  0.410041      0.896166  0.229350  0.952258         512   \n",
       "3            60  0.491944      0.898202  0.364003  0.953482        1024   \n",
       "4            15  0.718064      0.785545  0.476414  0.886289        1024   \n",
       "5            30  0.621700      0.874109  0.440351  0.948857         512   \n",
       "6            60  0.351684      0.910078  0.125883  0.961779          64   \n",
       "7            15  0.903348      0.890058  0.776603  0.952122         512   \n",
       "8            20  0.384136      0.894808  0.232845  0.951442         128   \n",
       "9            20  0.342566      0.925687  0.199633  0.952802          64   \n",
       "\n",
       "   epochs  filters    initializer kernel_size max_pool  \n",
       "0      30       32      he_normal      (2, 2)   (3, 3)  \n",
       "1      40       16  glorot_normal      (2, 2)   (2, 2)  \n",
       "2      30       64  glorot_normal      (3, 3)   (3, 3)  \n",
       "3      60       64      he_normal      (5, 5)   (5, 5)  \n",
       "4      15       32  glorot_normal      (2, 2)   (2, 2)  \n",
       "5      30       96      he_normal      (5, 5)   (3, 3)  \n",
       "6      60       32      he_normal      (5, 5)   (2, 2)  \n",
       "7      15       64      he_normal      (5, 5)   (3, 3)  \n",
       "8      20       96      he_normal      (5, 5)   (2, 2)  \n",
       "9      20       32      he_normal      (5, 5)   (5, 5)  "
      ]
     },
     "execution_count": 48,
     "metadata": {},
     "output_type": "execute_result"
    }
   ],
   "source": [
    "analyze_object = talos.Analyze(scan_object_cnn)\n",
    "analyze_object.data"
   ]
  },
  {
   "cell_type": "markdown",
   "metadata": {},
   "source": [
    "## We observe above that the last model which we trained with 20 epochs have a validation accuracy of 92.5% and a train accuracy of 95.2%"
   ]
  },
  {
   "cell_type": "markdown",
   "metadata": {},
   "source": [
    "## In this model we have used CNN rather than a LSTM to make it work. This seems to have achieved the objerctive of the assignment."
   ]
  },
  {
   "cell_type": "markdown",
   "metadata": {},
   "source": [
    "## Conclusions:"
   ]
  },
  {
   "cell_type": "code",
   "execution_count": 33,
   "metadata": {},
   "outputs": [],
   "source": [
    "from prettytable import PrettyTable"
   ]
  },
  {
   "cell_type": "code",
   "execution_count": 37,
   "metadata": {},
   "outputs": [
    {
     "name": "stdout",
     "output_type": "stream",
     "text": [
      "+--------------+---------------------------------------------------------+----------------+---------------+\n",
      "|    Model     |                 Description of the Model                | Train Accuracy | Test Accuracy |\n",
      "+--------------+---------------------------------------------------------+----------------+---------------+\n",
      "| LSTM Model-1 | LSTM+dropout+LSTM+dropout+Dense+dropout+softmax+adagrad |      70%       |      67%      |\n",
      "|              |                                                         |                |               |\n",
      "|              |                                                         |                |               |\n",
      "| LSTM Model-2 |                LSTM+dropout+softmax+adam                |      94%       |      88%      |\n",
      "|              |                                                         |                |               |\n",
      "|              |                                                         |                |               |\n",
      "| CNN MODEL-1  |           CONV+CONV+MAXPOOL+FLATTEN+DENSE+ADAM          |      95%       |      92%      |\n",
      "|              |                                                         |                |               |\n",
      "|              |                                                         |                |               |\n",
      "+--------------+---------------------------------------------------------+----------------+---------------+\n"
     ]
    }
   ],
   "source": [
    "x=PrettyTable([\"Model\",\"Description of the Model\",\"Train Accuracy\",\"Test Accuracy\"])\n",
    "x.add_row([\"LSTM Model-1\\n\\n\",\"LSTM+dropout+LSTM+dropout+Dense+dropout+softmax+adagrad\\n\\n\",\"70%\\n\\n\",\"67%\\n\\n\"])\n",
    "x.add_row([\"LSTM Model-2\\n\\n\",\"LSTM+dropout+softmax+adam\\n\\n\",\"94%\\n\\n\",\"88%\\n\\n\"])\n",
    "x.add_row([\"CNN MODEL-1\\n\\n\",\"CONV+CONV+MAXPOOL+FLATTEN+DENSE+ADAM\\n\\n\",\"95%\\n\\n\",\"92%\\n\\n\"])\n",
    "print(x)"
   ]
  },
  {
   "cell_type": "markdown",
   "metadata": {},
   "source": [
    "<b> We observe that CNN based model did better than the LSTM models though the LSTM Models were expected to do better.</b>"
   ]
  }
 ],
 "metadata": {
  "environment": {
   "name": "pytorch-gpu.1-4.m46",
   "type": "gcloud",
   "uri": "gcr.io/deeplearning-platform-release/pytorch-gpu.1-4:m46"
  },
  "kernelspec": {
   "display_name": "Python 3",
   "language": "python",
   "name": "python3"
  },
  "language_info": {
   "codemirror_mode": {
    "name": "ipython",
    "version": 3
   },
   "file_extension": ".py",
   "mimetype": "text/x-python",
   "name": "python",
   "nbconvert_exporter": "python",
   "pygments_lexer": "ipython3",
   "version": "3.7.6"
  }
 },
 "nbformat": 4,
 "nbformat_minor": 4
}
